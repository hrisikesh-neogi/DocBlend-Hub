{
 "cells": [
  {
   "cell_type": "code",
   "execution_count": 18,
   "id": "4f88120b-02e4-490a-9968-885b7a4cee49",
   "metadata": {},
   "outputs": [],
   "source": [
    "!pip install tiktoken -q"
   ]
  },
  {
   "cell_type": "code",
   "execution_count": 6,
   "id": "9f91d0b6-30fc-4c57-bf5d-b6262b1f41a0",
   "metadata": {},
   "outputs": [
    {
     "name": "stdin",
     "output_type": "stream",
     "text": [
      "OPENAI_API_KEY ········\n"
     ]
    }
   ],
   "source": [
    "import os\n",
    "from getpass import getpass\n",
    "\n",
    "os.environ[\"OPENAI_API_KEY\"] = getpass(\"OPENAI_API_KEY\")"
   ]
  },
  {
   "cell_type": "code",
   "execution_count": 7,
   "id": "566d807e-4915-4097-9768-598eb0cd5b3c",
   "metadata": {},
   "outputs": [],
   "source": [
    "from langchain.llms import OpenAI\n",
    "\n",
    "model = OpenAI(temperature=0.6)"
   ]
  },
  {
   "cell_type": "code",
   "execution_count": 8,
   "id": "0a21334b-551d-4b61-915a-37800bfeb033",
   "metadata": {},
   "outputs": [],
   "source": [
    "from langchain.document_loaders import TextLoader\n",
    "loader = TextLoader('transcript.txt')\n",
    "documents = loader.load()\n"
   ]
  },
  {
   "cell_type": "code",
   "execution_count": 9,
   "id": "d5dc500e-6996-487e-8ca7-3116918d688e",
   "metadata": {},
   "outputs": [
    {
     "name": "stdout",
     "output_type": "stream",
     "text": [
      "\n",
      "\n",
      "\u001b[1m> Entering new MapReduceDocumentsChain chain...\u001b[0m\n",
      "\n",
      "\n",
      "\u001b[1m> Entering new LLMChain chain...\u001b[0m\n",
      "Prompt after formatting:\n",
      "\u001b[32;1m\u001b[1;3mWrite a concise summary of the following:\n",
      "\n",
      "\n",
      "\" What's up everyone? In this video I show you how to do file handling and file organization in Python. So I show you how to navigate to different directories how to rename files, move them, copy them or remove files and directories. So these are all the functions we need in order to automate our file organization. And then I also show you one real life example. So I show you one automation script that I use in order to keep my desktop organized. So let's get started. First of all, let's learn how we can navigate to a different directory and for this we use the OS module and first of all we can print the current working directory by calling os.getcvd and this will print this path so this is where the main.py file is located and now let's switch to a different directory. So here on the desktop I have one folder that I called video files where I have a couple of files in it. So now I want to change into this directory and I can do this by calling os change der and then let's put in this path. So I want users Patrick desktop and then it's called video files. And now if I print the current working directory afterwards, then let's run this and now we see we are in this directory. And now the next thing I want to do is to rename these files so that I can sort them according to the name. For example, I want the numbers to be in the beginning and then there's also some spaces that I want to remove so first of all we can call os.list. And let's remove this print statement and if we run this then we get a list with all the files in this directory so we can iterate over this so we can say four file in OS list there and then I want to print the file and if we run this then we get all the different file names And then we have this one that we don't even see here because it's starting with a dot. So I want to ignore this so I can say if file equals equals this name, then I want to continue and otherwise print the file and then we should only get these three files. Now the next thing I want to do is to split the base name from the extension and then modify the name and put it back together with the extension afterwards. And the way to do this is saying name and x equals os dot path dot split x and it needs the file name. And now if we print the name and then print the extension in a separate line and run this, then we see we now split it the extension from the file name. So now let's modify the file name and create a new one and I want to have the number in the beginning then I want Python course and then I want this title in the end. And I also want to get rid of the spaces. So the way to do this is for example we can split this string at each dash and then get all the different elements. So we say split it equals name dot split at a dash. So this is a function that we can use on a string and if we print this then we see this will be a list. So this is a list now with all the separate elements. So now the next thing I want to do is to get rid of spaces like here for each element. And we can do this with list comprehension. So we say split it equals s dot strip for s in split it. So for each string in this list, we call s dot strip. And now if we run this, then we no longer have spaces in here. And now let's create a new name so we say new name equals and now we use an F string and now we put in the different elements in curly braces and create our new name. So we say curly braces dash curly braces dash curly braces dash and then we need one more. So in this very last field we put in our extension and here we want the number. So this is split it of element of index three. Then we put this for the other ones as well. So this is split it with element 1, this should be Python. Then here split it to this is the course and here we have the title so this is split at zero so now if we print the new name, then we see our name now looks like this. And now I want to have one more improvement so here I always want to have two digits in the beginning and for this I can call the handy cfil method and specify to as the argument. And now if we run this, then this is our final new file name. And now we only have to rename the file and for this we can call os.rename and then we need to put in the old file name. So this is the file and then the new name. And now let's watch the right side. So now I will execute this. And you see it immediately changed all the file names and renamed them. Now before we move on to moving files, I also want to show you how we can do this the modern Python way. So let's copy the old filenames into this again. And we can also say we say from pathlib we want to import the path and then we create a path object by saying f equals path and here we pass in the file and now we can say name equals f dot stem and the extension is f dot suffix. So this will be the same and then we say f dot rename to the new name and now again, let's watch the right side and run this and you see this work as well with the new syntax using the pathlib module. Now the next thing I want to do is to move a file and for this let's get rid of all of this and now the first thing I want to do is to create a new directory and we can do this by calling path and then specify a new folder name and then we call make sure and we use Xists okay equals true then it will not raise an exception if this already exists. So now if we run this, then it created a new data directory. We could also do it the old way by saying if not OS path exists and the name is data then we call OS make their data and now here I deleted it again and now if we comment this out and run this then here it worked as well. So now we have to be careful because now if we print all the files, you will see that now we also have this data in Lister, so it not only iterates over the files, but also over directories. So here we also have to say our file equals equals data now. And now in order to move a file, we import the SHU tool module and then we simply call SHUTIL.Move and then we specify the source file and now the destination is data. So this can take a whole file name but also a directory name like so. And now if we run this then you see it moved all the files into this directory. Then let's learn how to copy files instead of moving them. So let's move them out again here. And now in order to copy them, we can use SHUtil.copy and if we run this then you see it now created new copies in this directory. Now this has a the timestamp of right now. And if you want to keep the old timestamps and all other meta tags, then you can use the copy to function. So if I remove these again and now run the file then you see now we have copies and we have the same old timestamp. So this is how you copy and it keeps all the metadata. And now it's last thing, let's learn how we can delete a file and folder again. So for this, we can use os.remove and then use a file name. We can also use os.rm there and then a folder name for example data but if we run this then it will not work in our case because now we get an error directory is not empty. So in order to remove a non-empty directory, we can again use the SSHU tool module and then call RM3 and now here data. So this will recursively delete a directory tree. And if we run this, then it worked and now the whole directory is gone. And now the last thing I want to show you is this backup script that I use in order to keep my desktop organized. So as you can see there are a lot of different files that get collected over time, for example movies or audio files or images and a lot of screenshots. So here I defined all the possible file endings for audio files and the same for videos and images. And then I have helper functions that determine if a file is an audio file and it works by using the split x function and then it checks if the extension is in the audio extensions and the same for videos and images and then I even have a helper function that checks if it's a screenshot. So for a screenshot it has to be an image and then also screenshot has to be in name.lower and then I change into my desktop and then I iterate over os.lister and then I call the different helper functions and then I copy or here I move the files into the corresponding folders that I want to use. For example, for an audio file, it moves the file into this directory and then the same for videos, images, screenshots and all other documents. And this is basically all that I use in order to keep my desktop clean and then in order to automate this you can run this script every once in a while as a cron job and I have a full tutorial on my channel that explains how to run a Python script as a cron job. So check that out if you're interested and this is all I wanted to show you in this tutorial I hope you enjoyed this and then I hope to see you in the next video. Bye\"\n",
      "\n",
      "\n",
      "CONCISE SUMMARY:\u001b[0m\n",
      "\n",
      "\u001b[1m> Finished chain.\u001b[0m\n",
      "\n",
      "\n",
      "\u001b[1m> Entering new LLMChain chain...\u001b[0m\n",
      "Prompt after formatting:\n",
      "\u001b[32;1m\u001b[1;3mWrite a concise summary of the following:\n",
      "\n",
      "\n",
      "\" In this video, the viewer is taught how to do file handling and file organization in Python. This includes how to navigate to different directories, rename files, move them, copy them or remove files and directories. An example of a real-life automation script is then demonstrated, which helps keep the desktop organized. Finally, the viewer is shown how to run a Python script as a cron job to automate the process.\"\n",
      "\n",
      "\n",
      "CONCISE SUMMARY:\u001b[0m\n",
      "\n",
      "\u001b[1m> Finished chain.\u001b[0m\n",
      "\n",
      "\u001b[1m> Finished chain.\u001b[0m\n"
     ]
    }
   ],
   "source": [
    "from langchain.chains.summarize import load_summarize_chain\n",
    "\n",
    "chain = load_summarize_chain(model, chain_type=\"map_reduce\", verbose=True)\n",
    "caption = chain.run(documents)"
   ]
  },
  {
   "cell_type": "code",
   "execution_count": 10,
   "id": "e7a1165d-214c-4a6c-95d9-f7e8f90e8ed1",
   "metadata": {},
   "outputs": [
    {
     "data": {
      "text/plain": [
       "'\\nThis video tutorial teaches the viewer how to do file handling and organization in Python, including how to navigate, rename, move, copy and remove files and directories. An example of a real-life automation script is then demonstrated, and the viewer is shown how to set up a cron job to automate the process.'"
      ]
     },
     "execution_count": 10,
     "metadata": {},
     "output_type": "execute_result"
    }
   ],
   "source": [
    "caption"
   ]
  },
  {
   "cell_type": "code",
   "execution_count": 21,
   "id": "65237526-a949-4502-b8c7-815342ce6836",
   "metadata": {},
   "outputs": [],
   "source": [
    "prefix = \"\"\"You are an AI assistant which generates a summary from a transcript text of a video. \\\n",
    "The following is the transcript text generated from a video. Creating meaningful summary of the \\\n",
    "the transcript is your job. Based on the summary, anyone can learn the topics covered in the video. \n",
    "The summary should not be just a caption which only describes about the content of the video. You can create \\\n",
    "seperate points to demonstrate topics coverd in the video and which all things are discussed in that topic; write that inside \\\n",
    "that particular points. In short, the summary should be precised and descriptive unlike a shorter caption.\n",
    "\"\"\"\n",
    "\n",
    "suffix = \"\"\"\n",
    "Transcript: {text}\n",
    "Summary: \"\"\"\n",
    "\n"
   ]
  },
  {
   "cell_type": "code",
   "execution_count": 22,
   "id": "14490634-c489-4fd2-a213-77559047e028",
   "metadata": {},
   "outputs": [],
   "source": [
    "from src.prompts.video_summarizer_prompt import VideoSummarizerPromptTemplate\n",
    "\n",
    "prompt = VideoSummarizerPromptTemplate(\n",
    "    prefix=prefix,\n",
    "    suffix = suffix,\n",
    "    input_variables = [\"text\"]\n",
    ")"
   ]
  },
  {
   "cell_type": "code",
   "execution_count": 23,
   "id": "8478b46b-b02a-452a-bf5b-c8e33234cb9a",
   "metadata": {},
   "outputs": [],
   "source": [
    "prompt_template = prompt.format(\n",
    "    text = documents[0].page_content\n",
    ")"
   ]
  },
  {
   "cell_type": "code",
   "execution_count": 24,
   "id": "18a5929d-c7e3-48ff-8b29-80da9f9a78cb",
   "metadata": {},
   "outputs": [
    {
     "name": "stdout",
     "output_type": "stream",
     "text": [
      "You are an AI assistant which generates a summary from a transcript text of a video. The following is the transcript text generated from a video. Creating meaningful summary of the the transcript is your job. Based on the summary, anyone can learn the topics covered in the video. \n",
      "The summary should not be just a caption which only describes about the content of the video. You can create seperate points to demonstrate topics coverd in the video and which all things are discussed in that topic; write that inside that particular points. In short, the summary should be precised and descriptive unlike a shorter caption.\n",
      "\n",
      "\n",
      "Transcript:  What's up everyone? In this video I show you how to do file handling and file organization in Python. So I show you how to navigate to different directories how to rename files, move them, copy them or remove files and directories. So these are all the functions we need in order to automate our file organization. And then I also show you one real life example. So I show you one automation script that I use in order to keep my desktop organized. So let's get started. First of all, let's learn how we can navigate to a different directory and for this we use the OS module and first of all we can print the current working directory by calling os.getcvd and this will print this path so this is where the main.py file is located and now let's switch to a different directory. So here on the desktop I have one folder that I called video files where I have a couple of files in it. So now I want to change into this directory and I can do this by calling os change der and then let's put in this path. So I want users Patrick desktop and then it's called video files. And now if I print the current working directory afterwards, then let's run this and now we see we are in this directory. And now the next thing I want to do is to rename these files so that I can sort them according to the name. For example, I want the numbers to be in the beginning and then there's also some spaces that I want to remove so first of all we can call os.list. And let's remove this print statement and if we run this then we get a list with all the files in this directory so we can iterate over this so we can say four file in OS list there and then I want to print the file and if we run this then we get all the different file names And then we have this one that we don't even see here because it's starting with a dot. So I want to ignore this so I can say if file equals equals this name, then I want to continue and otherwise print the file and then we should only get these three files. Now the next thing I want to do is to split the base name from the extension and then modify the name and put it back together with the extension afterwards. And the way to do this is saying name and x equals os dot path dot split x and it needs the file name. And now if we print the name and then print the extension in a separate line and run this, then we see we now split it the extension from the file name. So now let's modify the file name and create a new one and I want to have the number in the beginning then I want Python course and then I want this title in the end. And I also want to get rid of the spaces. So the way to do this is for example we can split this string at each dash and then get all the different elements. So we say split it equals name dot split at a dash. So this is a function that we can use on a string and if we print this then we see this will be a list. So this is a list now with all the separate elements. So now the next thing I want to do is to get rid of spaces like here for each element. And we can do this with list comprehension. So we say split it equals s dot strip for s in split it. So for each string in this list, we call s dot strip. And now if we run this, then we no longer have spaces in here. And now let's create a new name so we say new name equals and now we use an F string and now we put in the different elements in curly braces and create our new name. So we say curly braces dash curly braces dash curly braces dash and then we need one more. So in this very last field we put in our extension and here we want the number. So this is split it of element of index three. Then we put this for the other ones as well. So this is split it with element 1, this should be Python. Then here split it to this is the course and here we have the title so this is split at zero so now if we print the new name, then we see our name now looks like this. And now I want to have one more improvement so here I always want to have two digits in the beginning and for this I can call the handy cfil method and specify to as the argument. And now if we run this, then this is our final new file name. And now we only have to rename the file and for this we can call os.rename and then we need to put in the old file name. So this is the file and then the new name. And now let's watch the right side. So now I will execute this. And you see it immediately changed all the file names and renamed them. Now before we move on to moving files, I also want to show you how we can do this the modern Python way. So let's copy the old filenames into this again. And we can also say we say from pathlib we want to import the path and then we create a path object by saying f equals path and here we pass in the file and now we can say name equals f dot stem and the extension is f dot suffix. So this will be the same and then we say f dot rename to the new name and now again, let's watch the right side and run this and you see this work as well with the new syntax using the pathlib module. Now the next thing I want to do is to move a file and for this let's get rid of all of this and now the first thing I want to do is to create a new directory and we can do this by calling path and then specify a new folder name and then we call make sure and we use Xists okay equals true then it will not raise an exception if this already exists. So now if we run this, then it created a new data directory. We could also do it the old way by saying if not OS path exists and the name is data then we call OS make their data and now here I deleted it again and now if we comment this out and run this then here it worked as well. So now we have to be careful because now if we print all the files, you will see that now we also have this data in Lister, so it not only iterates over the files, but also over directories. So here we also have to say our file equals equals data now. And now in order to move a file, we import the SHU tool module and then we simply call SHUTIL.Move and then we specify the source file and now the destination is data. So this can take a whole file name but also a directory name like so. And now if we run this then you see it moved all the files into this directory. Then let's learn how to copy files instead of moving them. So let's move them out again here. And now in order to copy them, we can use SHUtil.copy and if we run this then you see it now created new copies in this directory. Now this has a the timestamp of right now. And if you want to keep the old timestamps and all other meta tags, then you can use the copy to function. So if I remove these again and now run the file then you see now we have copies and we have the same old timestamp. So this is how you copy and it keeps all the metadata. And now it's last thing, let's learn how we can delete a file and folder again. So for this, we can use os.remove and then use a file name. We can also use os.rm there and then a folder name for example data but if we run this then it will not work in our case because now we get an error directory is not empty. So in order to remove a non-empty directory, we can again use the SSHU tool module and then call RM3 and now here data. So this will recursively delete a directory tree. And if we run this, then it worked and now the whole directory is gone. And now the last thing I want to show you is this backup script that I use in order to keep my desktop organized. So as you can see there are a lot of different files that get collected over time, for example movies or audio files or images and a lot of screenshots. So here I defined all the possible file endings for audio files and the same for videos and images. And then I have helper functions that determine if a file is an audio file and it works by using the split x function and then it checks if the extension is in the audio extensions and the same for videos and images and then I even have a helper function that checks if it's a screenshot. So for a screenshot it has to be an image and then also screenshot has to be in name.lower and then I change into my desktop and then I iterate over os.lister and then I call the different helper functions and then I copy or here I move the files into the corresponding folders that I want to use. For example, for an audio file, it moves the file into this directory and then the same for videos, images, screenshots and all other documents. And this is basically all that I use in order to keep my desktop clean and then in order to automate this you can run this script every once in a while as a cron job and I have a full tutorial on my channel that explains how to run a Python script as a cron job. So check that out if you're interested and this is all I wanted to show you in this tutorial I hope you enjoyed this and then I hope to see you in the next video. Bye\n",
      "Summary: \n"
     ]
    }
   ],
   "source": [
    "print(prompt_template)"
   ]
  },
  {
   "cell_type": "code",
   "execution_count": 31,
   "id": "8bf6d4e0-7b80-4e0f-953f-2cbebd5f4134",
   "metadata": {},
   "outputs": [],
   "source": [
    "from langchain.chains import LLMChain\n",
    "\n",
    "chain = LLMChain(\n",
    "    llm = model,\n",
    "    prompt = prompt\n",
    ")\n"
   ]
  },
  {
   "cell_type": "code",
   "execution_count": 32,
   "id": "4a419774-367a-431a-9009-fc0819e14c10",
   "metadata": {},
   "outputs": [
    {
     "name": "stdout",
     "output_type": "stream",
     "text": [
      "\n",
      "This video covers how to do file handling and file organization in Python. It explains how to navigate to different directories, rename files, move them, copy them, and remove files and directories. It also provides a real-life example of an automation script used to keep the desktop organized. This includes how to split the base name from the extension, modify the name, and create a new name. Moreover, it teaches how to move and copy files with the modern Python way using the pathlib module. Lastly, it provides a backup script to keep the desktop clean and how to run it as a cron job.\n"
     ]
    }
   ],
   "source": [
    "print(chain.run(documents[0].page_content))"
   ]
  },
  {
   "cell_type": "code",
   "execution_count": null,
   "id": "d2c2976f-c867-4e6e-902d-3de60863136e",
   "metadata": {},
   "outputs": [],
   "source": []
  },
  {
   "cell_type": "code",
   "execution_count": null,
   "id": "f55d53f4-e443-4efc-9e5c-b1818331fd4c",
   "metadata": {},
   "outputs": [],
   "source": []
  }
 ],
 "metadata": {
  "kernelspec": {
   "display_name": "Python 3 (ipykernel)",
   "language": "python",
   "name": "python3"
  },
  "language_info": {
   "codemirror_mode": {
    "name": "ipython",
    "version": 3
   },
   "file_extension": ".py",
   "mimetype": "text/x-python",
   "name": "python",
   "nbconvert_exporter": "python",
   "pygments_lexer": "ipython3",
   "version": "3.8.17"
  }
 },
 "nbformat": 4,
 "nbformat_minor": 5
}
